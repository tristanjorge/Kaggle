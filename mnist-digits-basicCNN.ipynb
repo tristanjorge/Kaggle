{
 "cells": [
  {
   "cell_type": "code",
   "execution_count": 1,
   "id": "64d8e457",
   "metadata": {
    "_cell_guid": "b1076dfc-b9ad-4769-8c92-a6c4dae69d19",
    "_uuid": "8f2839f25d086af736a60e9eeb907d3b93b6e0e5",
    "execution": {
     "iopub.execute_input": "2025-09-11T14:53:30.614434Z",
     "iopub.status.busy": "2025-09-11T14:53:30.614090Z",
     "iopub.status.idle": "2025-09-11T14:53:44.896932Z",
     "shell.execute_reply": "2025-09-11T14:53:44.895669Z"
    },
    "papermill": {
     "duration": 14.291028,
     "end_time": "2025-09-11T14:53:44.899164",
     "exception": false,
     "start_time": "2025-09-11T14:53:30.608136",
     "status": "completed"
    },
    "tags": []
   },
   "outputs": [
    {
     "name": "stderr",
     "output_type": "stream",
     "text": [
      "2025-09-11 14:53:34.627372: E external/local_xla/xla/stream_executor/cuda/cuda_dnn.cc:9261] Unable to register cuDNN factory: Attempting to register factory for plugin cuDNN when one has already been registered\n",
      "2025-09-11 14:53:34.627580: E external/local_xla/xla/stream_executor/cuda/cuda_fft.cc:607] Unable to register cuFFT factory: Attempting to register factory for plugin cuFFT when one has already been registered\n",
      "2025-09-11 14:53:34.748772: E external/local_xla/xla/stream_executor/cuda/cuda_blas.cc:1515] Unable to register cuBLAS factory: Attempting to register factory for plugin cuBLAS when one has already been registered\n"
     ]
    },
    {
     "name": "stdout",
     "output_type": "stream",
     "text": [
      "/kaggle/input/digit-recognizer/sample_submission.csv\n",
      "/kaggle/input/digit-recognizer/train.csv\n",
      "/kaggle/input/digit-recognizer/test.csv\n"
     ]
    }
   ],
   "source": [
    "# load libraries\n",
    "import numpy as np\n",
    "import pandas as pd\n",
    "\n",
    "import matplotlib.pyplot as plt\n",
    "import seaborn as sns\n",
    "from sklearn.model_selection import train_test_split\n",
    "from tensorflow.keras.utils import to_categorical\n",
    "from tensorflow.keras.models import Sequential\n",
    "from tensorflow.keras.layers import Dense, Flatten, Conv2D, MaxPooling2D, Dropout, Input\n",
    "\n",
    "\n",
    "import os\n",
    "for dirname, _, filenames in os.walk('/kaggle/input'):\n",
    "    for filename in filenames:\n",
    "        print(os.path.join(dirname, filename))"
   ]
  },
  {
   "cell_type": "code",
   "execution_count": 2,
   "id": "7b5b05df",
   "metadata": {
    "execution": {
     "iopub.execute_input": "2025-09-11T14:53:44.908907Z",
     "iopub.status.busy": "2025-09-11T14:53:44.908238Z",
     "iopub.status.idle": "2025-09-11T14:53:49.823541Z",
     "shell.execute_reply": "2025-09-11T14:53:49.822422Z"
    },
    "papermill": {
     "duration": 4.922816,
     "end_time": "2025-09-11T14:53:49.826125",
     "exception": false,
     "start_time": "2025-09-11T14:53:44.903309",
     "status": "completed"
    },
    "tags": []
   },
   "outputs": [],
   "source": [
    "# adding data\n",
    "df_train = pd.read_csv(\"../input/digit-recognizer/train.csv\")\n",
    "df_test = pd.read_csv(\"../input/digit-recognizer/test.csv\")"
   ]
  },
  {
   "cell_type": "code",
   "execution_count": 3,
   "id": "bd916bfe",
   "metadata": {
    "execution": {
     "iopub.execute_input": "2025-09-11T14:53:49.835694Z",
     "iopub.status.busy": "2025-09-11T14:53:49.835293Z",
     "iopub.status.idle": "2025-09-11T14:53:49.885212Z",
     "shell.execute_reply": "2025-09-11T14:53:49.883871Z"
    },
    "papermill": {
     "duration": 0.057265,
     "end_time": "2025-09-11T14:53:49.887450",
     "exception": false,
     "start_time": "2025-09-11T14:53:49.830185",
     "status": "completed"
    },
    "tags": []
   },
   "outputs": [
    {
     "name": "stdout",
     "output_type": "stream",
     "text": [
      "<class 'pandas.core.frame.DataFrame'>\n",
      "RangeIndex: 42000 entries, 0 to 41999\n",
      "Columns: 785 entries, label to pixel783\n",
      "dtypes: int64(785)\n",
      "memory usage: 251.5 MB\n"
     ]
    }
   ],
   "source": [
    "# brief look at dataset\n",
    "df_train.info()"
   ]
  },
  {
   "cell_type": "code",
   "execution_count": 4,
   "id": "0db68525",
   "metadata": {
    "execution": {
     "iopub.execute_input": "2025-09-11T14:53:49.896857Z",
     "iopub.status.busy": "2025-09-11T14:53:49.896468Z",
     "iopub.status.idle": "2025-09-11T14:53:51.824975Z",
     "shell.execute_reply": "2025-09-11T14:53:51.823850Z"
    },
    "papermill": {
     "duration": 1.935647,
     "end_time": "2025-09-11T14:53:51.827066",
     "exception": false,
     "start_time": "2025-09-11T14:53:49.891419",
     "status": "completed"
    },
    "tags": []
   },
   "outputs": [
    {
     "data": {
      "text/html": [
       "<div>\n",
       "<style scoped>\n",
       "    .dataframe tbody tr th:only-of-type {\n",
       "        vertical-align: middle;\n",
       "    }\n",
       "\n",
       "    .dataframe tbody tr th {\n",
       "        vertical-align: top;\n",
       "    }\n",
       "\n",
       "    .dataframe thead th {\n",
       "        text-align: right;\n",
       "    }\n",
       "</style>\n",
       "<table border=\"1\" class=\"dataframe\">\n",
       "  <thead>\n",
       "    <tr style=\"text-align: right;\">\n",
       "      <th></th>\n",
       "      <th>label</th>\n",
       "      <th>pixel0</th>\n",
       "      <th>pixel1</th>\n",
       "      <th>pixel2</th>\n",
       "      <th>pixel3</th>\n",
       "      <th>pixel4</th>\n",
       "      <th>pixel5</th>\n",
       "      <th>pixel6</th>\n",
       "      <th>pixel7</th>\n",
       "      <th>pixel8</th>\n",
       "      <th>...</th>\n",
       "      <th>pixel774</th>\n",
       "      <th>pixel775</th>\n",
       "      <th>pixel776</th>\n",
       "      <th>pixel777</th>\n",
       "      <th>pixel778</th>\n",
       "      <th>pixel779</th>\n",
       "      <th>pixel780</th>\n",
       "      <th>pixel781</th>\n",
       "      <th>pixel782</th>\n",
       "      <th>pixel783</th>\n",
       "    </tr>\n",
       "  </thead>\n",
       "  <tbody>\n",
       "    <tr>\n",
       "      <th>count</th>\n",
       "      <td>42000.000000</td>\n",
       "      <td>42000.0</td>\n",
       "      <td>42000.0</td>\n",
       "      <td>42000.0</td>\n",
       "      <td>42000.0</td>\n",
       "      <td>42000.0</td>\n",
       "      <td>42000.0</td>\n",
       "      <td>42000.0</td>\n",
       "      <td>42000.0</td>\n",
       "      <td>42000.0</td>\n",
       "      <td>...</td>\n",
       "      <td>42000.000000</td>\n",
       "      <td>42000.000000</td>\n",
       "      <td>42000.000000</td>\n",
       "      <td>42000.00000</td>\n",
       "      <td>42000.000000</td>\n",
       "      <td>42000.000000</td>\n",
       "      <td>42000.0</td>\n",
       "      <td>42000.0</td>\n",
       "      <td>42000.0</td>\n",
       "      <td>42000.0</td>\n",
       "    </tr>\n",
       "    <tr>\n",
       "      <th>mean</th>\n",
       "      <td>4.456643</td>\n",
       "      <td>0.0</td>\n",
       "      <td>0.0</td>\n",
       "      <td>0.0</td>\n",
       "      <td>0.0</td>\n",
       "      <td>0.0</td>\n",
       "      <td>0.0</td>\n",
       "      <td>0.0</td>\n",
       "      <td>0.0</td>\n",
       "      <td>0.0</td>\n",
       "      <td>...</td>\n",
       "      <td>0.219286</td>\n",
       "      <td>0.117095</td>\n",
       "      <td>0.059024</td>\n",
       "      <td>0.02019</td>\n",
       "      <td>0.017238</td>\n",
       "      <td>0.002857</td>\n",
       "      <td>0.0</td>\n",
       "      <td>0.0</td>\n",
       "      <td>0.0</td>\n",
       "      <td>0.0</td>\n",
       "    </tr>\n",
       "    <tr>\n",
       "      <th>std</th>\n",
       "      <td>2.887730</td>\n",
       "      <td>0.0</td>\n",
       "      <td>0.0</td>\n",
       "      <td>0.0</td>\n",
       "      <td>0.0</td>\n",
       "      <td>0.0</td>\n",
       "      <td>0.0</td>\n",
       "      <td>0.0</td>\n",
       "      <td>0.0</td>\n",
       "      <td>0.0</td>\n",
       "      <td>...</td>\n",
       "      <td>6.312890</td>\n",
       "      <td>4.633819</td>\n",
       "      <td>3.274488</td>\n",
       "      <td>1.75987</td>\n",
       "      <td>1.894498</td>\n",
       "      <td>0.414264</td>\n",
       "      <td>0.0</td>\n",
       "      <td>0.0</td>\n",
       "      <td>0.0</td>\n",
       "      <td>0.0</td>\n",
       "    </tr>\n",
       "    <tr>\n",
       "      <th>min</th>\n",
       "      <td>0.000000</td>\n",
       "      <td>0.0</td>\n",
       "      <td>0.0</td>\n",
       "      <td>0.0</td>\n",
       "      <td>0.0</td>\n",
       "      <td>0.0</td>\n",
       "      <td>0.0</td>\n",
       "      <td>0.0</td>\n",
       "      <td>0.0</td>\n",
       "      <td>0.0</td>\n",
       "      <td>...</td>\n",
       "      <td>0.000000</td>\n",
       "      <td>0.000000</td>\n",
       "      <td>0.000000</td>\n",
       "      <td>0.00000</td>\n",
       "      <td>0.000000</td>\n",
       "      <td>0.000000</td>\n",
       "      <td>0.0</td>\n",
       "      <td>0.0</td>\n",
       "      <td>0.0</td>\n",
       "      <td>0.0</td>\n",
       "    </tr>\n",
       "    <tr>\n",
       "      <th>25%</th>\n",
       "      <td>2.000000</td>\n",
       "      <td>0.0</td>\n",
       "      <td>0.0</td>\n",
       "      <td>0.0</td>\n",
       "      <td>0.0</td>\n",
       "      <td>0.0</td>\n",
       "      <td>0.0</td>\n",
       "      <td>0.0</td>\n",
       "      <td>0.0</td>\n",
       "      <td>0.0</td>\n",
       "      <td>...</td>\n",
       "      <td>0.000000</td>\n",
       "      <td>0.000000</td>\n",
       "      <td>0.000000</td>\n",
       "      <td>0.00000</td>\n",
       "      <td>0.000000</td>\n",
       "      <td>0.000000</td>\n",
       "      <td>0.0</td>\n",
       "      <td>0.0</td>\n",
       "      <td>0.0</td>\n",
       "      <td>0.0</td>\n",
       "    </tr>\n",
       "    <tr>\n",
       "      <th>50%</th>\n",
       "      <td>4.000000</td>\n",
       "      <td>0.0</td>\n",
       "      <td>0.0</td>\n",
       "      <td>0.0</td>\n",
       "      <td>0.0</td>\n",
       "      <td>0.0</td>\n",
       "      <td>0.0</td>\n",
       "      <td>0.0</td>\n",
       "      <td>0.0</td>\n",
       "      <td>0.0</td>\n",
       "      <td>...</td>\n",
       "      <td>0.000000</td>\n",
       "      <td>0.000000</td>\n",
       "      <td>0.000000</td>\n",
       "      <td>0.00000</td>\n",
       "      <td>0.000000</td>\n",
       "      <td>0.000000</td>\n",
       "      <td>0.0</td>\n",
       "      <td>0.0</td>\n",
       "      <td>0.0</td>\n",
       "      <td>0.0</td>\n",
       "    </tr>\n",
       "    <tr>\n",
       "      <th>75%</th>\n",
       "      <td>7.000000</td>\n",
       "      <td>0.0</td>\n",
       "      <td>0.0</td>\n",
       "      <td>0.0</td>\n",
       "      <td>0.0</td>\n",
       "      <td>0.0</td>\n",
       "      <td>0.0</td>\n",
       "      <td>0.0</td>\n",
       "      <td>0.0</td>\n",
       "      <td>0.0</td>\n",
       "      <td>...</td>\n",
       "      <td>0.000000</td>\n",
       "      <td>0.000000</td>\n",
       "      <td>0.000000</td>\n",
       "      <td>0.00000</td>\n",
       "      <td>0.000000</td>\n",
       "      <td>0.000000</td>\n",
       "      <td>0.0</td>\n",
       "      <td>0.0</td>\n",
       "      <td>0.0</td>\n",
       "      <td>0.0</td>\n",
       "    </tr>\n",
       "    <tr>\n",
       "      <th>max</th>\n",
       "      <td>9.000000</td>\n",
       "      <td>0.0</td>\n",
       "      <td>0.0</td>\n",
       "      <td>0.0</td>\n",
       "      <td>0.0</td>\n",
       "      <td>0.0</td>\n",
       "      <td>0.0</td>\n",
       "      <td>0.0</td>\n",
       "      <td>0.0</td>\n",
       "      <td>0.0</td>\n",
       "      <td>...</td>\n",
       "      <td>254.000000</td>\n",
       "      <td>254.000000</td>\n",
       "      <td>253.000000</td>\n",
       "      <td>253.00000</td>\n",
       "      <td>254.000000</td>\n",
       "      <td>62.000000</td>\n",
       "      <td>0.0</td>\n",
       "      <td>0.0</td>\n",
       "      <td>0.0</td>\n",
       "      <td>0.0</td>\n",
       "    </tr>\n",
       "  </tbody>\n",
       "</table>\n",
       "<p>8 rows × 785 columns</p>\n",
       "</div>"
      ],
      "text/plain": [
       "              label   pixel0   pixel1   pixel2   pixel3   pixel4   pixel5  \\\n",
       "count  42000.000000  42000.0  42000.0  42000.0  42000.0  42000.0  42000.0   \n",
       "mean       4.456643      0.0      0.0      0.0      0.0      0.0      0.0   \n",
       "std        2.887730      0.0      0.0      0.0      0.0      0.0      0.0   \n",
       "min        0.000000      0.0      0.0      0.0      0.0      0.0      0.0   \n",
       "25%        2.000000      0.0      0.0      0.0      0.0      0.0      0.0   \n",
       "50%        4.000000      0.0      0.0      0.0      0.0      0.0      0.0   \n",
       "75%        7.000000      0.0      0.0      0.0      0.0      0.0      0.0   \n",
       "max        9.000000      0.0      0.0      0.0      0.0      0.0      0.0   \n",
       "\n",
       "        pixel6   pixel7   pixel8  ...      pixel774      pixel775  \\\n",
       "count  42000.0  42000.0  42000.0  ...  42000.000000  42000.000000   \n",
       "mean       0.0      0.0      0.0  ...      0.219286      0.117095   \n",
       "std        0.0      0.0      0.0  ...      6.312890      4.633819   \n",
       "min        0.0      0.0      0.0  ...      0.000000      0.000000   \n",
       "25%        0.0      0.0      0.0  ...      0.000000      0.000000   \n",
       "50%        0.0      0.0      0.0  ...      0.000000      0.000000   \n",
       "75%        0.0      0.0      0.0  ...      0.000000      0.000000   \n",
       "max        0.0      0.0      0.0  ...    254.000000    254.000000   \n",
       "\n",
       "           pixel776     pixel777      pixel778      pixel779  pixel780  \\\n",
       "count  42000.000000  42000.00000  42000.000000  42000.000000   42000.0   \n",
       "mean       0.059024      0.02019      0.017238      0.002857       0.0   \n",
       "std        3.274488      1.75987      1.894498      0.414264       0.0   \n",
       "min        0.000000      0.00000      0.000000      0.000000       0.0   \n",
       "25%        0.000000      0.00000      0.000000      0.000000       0.0   \n",
       "50%        0.000000      0.00000      0.000000      0.000000       0.0   \n",
       "75%        0.000000      0.00000      0.000000      0.000000       0.0   \n",
       "max      253.000000    253.00000    254.000000     62.000000       0.0   \n",
       "\n",
       "       pixel781  pixel782  pixel783  \n",
       "count   42000.0   42000.0   42000.0  \n",
       "mean        0.0       0.0       0.0  \n",
       "std         0.0       0.0       0.0  \n",
       "min         0.0       0.0       0.0  \n",
       "25%         0.0       0.0       0.0  \n",
       "50%         0.0       0.0       0.0  \n",
       "75%         0.0       0.0       0.0  \n",
       "max         0.0       0.0       0.0  \n",
       "\n",
       "[8 rows x 785 columns]"
      ]
     },
     "execution_count": 4,
     "metadata": {},
     "output_type": "execute_result"
    }
   ],
   "source": [
    "df_train.describe()"
   ]
  },
  {
   "cell_type": "code",
   "execution_count": 5,
   "id": "185a5f73",
   "metadata": {
    "execution": {
     "iopub.execute_input": "2025-09-11T14:53:51.837115Z",
     "iopub.status.busy": "2025-09-11T14:53:51.836794Z",
     "iopub.status.idle": "2025-09-11T14:53:51.852548Z",
     "shell.execute_reply": "2025-09-11T14:53:51.851537Z"
    },
    "papermill": {
     "duration": 0.02327,
     "end_time": "2025-09-11T14:53:51.854738",
     "exception": false,
     "start_time": "2025-09-11T14:53:51.831468",
     "status": "completed"
    },
    "tags": []
   },
   "outputs": [
    {
     "data": {
      "text/plain": [
       "count       784\n",
       "unique        1\n",
       "top       False\n",
       "freq        784\n",
       "dtype: object"
      ]
     },
     "execution_count": 5,
     "metadata": {},
     "output_type": "execute_result"
    }
   ],
   "source": [
    "# check for missing values\n",
    "df_test.isnull().any().describe()"
   ]
  },
  {
   "cell_type": "code",
   "execution_count": 6,
   "id": "80d54c50",
   "metadata": {
    "execution": {
     "iopub.execute_input": "2025-09-11T14:53:51.864514Z",
     "iopub.status.busy": "2025-09-11T14:53:51.864216Z",
     "iopub.status.idle": "2025-09-11T14:53:51.948562Z",
     "shell.execute_reply": "2025-09-11T14:53:51.947670Z"
    },
    "papermill": {
     "duration": 0.091825,
     "end_time": "2025-09-11T14:53:51.950829",
     "exception": false,
     "start_time": "2025-09-11T14:53:51.859004",
     "status": "completed"
    },
    "tags": []
   },
   "outputs": [],
   "source": [
    "# set up y_train, X_train\n",
    "y_train = df_train[\"label\"].values\n",
    "X_train = df_train.drop(labels=[\"label\"],axis=1).values\n",
    "\n",
    "# set up X_test\n",
    "X_test = df_test.values"
   ]
  },
  {
   "cell_type": "code",
   "execution_count": 7,
   "id": "5ee479b7",
   "metadata": {
    "execution": {
     "iopub.execute_input": "2025-09-11T14:53:51.961462Z",
     "iopub.status.busy": "2025-09-11T14:53:51.960596Z",
     "iopub.status.idle": "2025-09-11T14:53:52.196695Z",
     "shell.execute_reply": "2025-09-11T14:53:52.195595Z"
    },
    "papermill": {
     "duration": 0.243364,
     "end_time": "2025-09-11T14:53:52.198759",
     "exception": false,
     "start_time": "2025-09-11T14:53:51.955395",
     "status": "completed"
    },
    "tags": []
   },
   "outputs": [
    {
     "data": {
      "image/png": "[encoded data removed]",
      "text/plain": [
       "<Figure size 640x480 with 1 Axes>"
      ]
     },
     "metadata": {},
     "output_type": "display_data"
    }
   ],
   "source": [
    "# distribution of labels in countplot\n",
    "sns.set(style='white', context='notebook', palette='pastel')\n",
    "\n",
    "sns.countplot(x=y_train)\n",
    "\n",
    "plt.show()"
   ]
  },
  {
   "cell_type": "code",
   "execution_count": 8,
   "id": "945e498b",
   "metadata": {
    "execution": {
     "iopub.execute_input": "2025-09-11T14:53:52.209573Z",
     "iopub.status.busy": "2025-09-11T14:53:52.209240Z",
     "iopub.status.idle": "2025-09-11T14:53:52.422472Z",
     "shell.execute_reply": "2025-09-11T14:53:52.421269Z"
    },
    "papermill": {
     "duration": 0.221403,
     "end_time": "2025-09-11T14:53:52.424820",
     "exception": false,
     "start_time": "2025-09-11T14:53:52.203417",
     "status": "completed"
    },
    "tags": []
   },
   "outputs": [
    {
     "name": "stdout",
     "output_type": "stream",
     "text": [
      "(42000, 28, 28, 1) (28000, 28, 28, 1)\n"
     ]
    }
   ],
   "source": [
    "# reshape and normalize data\n",
    "X_train = X_train.reshape((-1,28,28,1))/ 255.0\n",
    "X_test = X_test.reshape((-1,28,28,1))/ 255.0\n",
    " \n",
    "print(X_train.shape, X_test.shape)"
   ]
  },
  {
   "cell_type": "code",
   "execution_count": 9,
   "id": "e6eaadda",
   "metadata": {
    "execution": {
     "iopub.execute_input": "2025-09-11T14:53:52.435994Z",
     "iopub.status.busy": "2025-09-11T14:53:52.435623Z",
     "iopub.status.idle": "2025-09-11T14:53:52.441531Z",
     "shell.execute_reply": "2025-09-11T14:53:52.440340Z"
    },
    "papermill": {
     "duration": 0.013929,
     "end_time": "2025-09-11T14:53:52.443696",
     "exception": false,
     "start_time": "2025-09-11T14:53:52.429767",
     "status": "completed"
    },
    "tags": []
   },
   "outputs": [],
   "source": [
    "# one-hot encoding for Y_train using keras.utils.to_categorical\n",
    "y_train = to_categorical(y_train, num_classes=10)"
   ]
  },
  {
   "cell_type": "code",
   "execution_count": 10,
   "id": "23e763e7",
   "metadata": {
    "execution": {
     "iopub.execute_input": "2025-09-11T14:53:52.455298Z",
     "iopub.status.busy": "2025-09-11T14:53:52.454406Z",
     "iopub.status.idle": "2025-09-11T14:53:52.884005Z",
     "shell.execute_reply": "2025-09-11T14:53:52.883106Z"
    },
    "papermill": {
     "duration": 0.43784,
     "end_time": "2025-09-11T14:53:52.886371",
     "exception": false,
     "start_time": "2025-09-11T14:53:52.448531",
     "status": "completed"
    },
    "tags": []
   },
   "outputs": [],
   "source": [
    "# train_test_split for train and validation set for fitting the model\n",
    "X_train, X_val, y_train, y_val = train_test_split(X_train, y_train, test_size = 0.2, random_state=38)"
   ]
  },
  {
   "cell_type": "code",
   "execution_count": 11,
   "id": "886db90f",
   "metadata": {
    "execution": {
     "iopub.execute_input": "2025-09-11T14:53:52.898156Z",
     "iopub.status.busy": "2025-09-11T14:53:52.897357Z",
     "iopub.status.idle": "2025-09-11T14:53:53.146614Z",
     "shell.execute_reply": "2025-09-11T14:53:53.145434Z"
    },
    "papermill": {
     "duration": 0.257453,
     "end_time": "2025-09-11T14:53:53.148901",
     "exception": false,
     "start_time": "2025-09-11T14:53:52.891448",
     "status": "completed"
    },
    "tags": []
   },
   "outputs": [
    {
     "data": {
      "image/png": "[encoded data removed]",
      "text/plain": [
       "<Figure size 640x480 with 1 Axes>"
      ]
     },
     "metadata": {},
     "output_type": "display_data"
    }
   ],
   "source": [
    "g = plt.imshow(X_train[0][:,:,0])"
   ]
  },
  {
   "cell_type": "code",
   "execution_count": 12,
   "id": "64057b5f",
   "metadata": {
    "execution": {
     "iopub.execute_input": "2025-09-11T14:53:53.160210Z",
     "iopub.status.busy": "2025-09-11T14:53:53.159885Z",
     "iopub.status.idle": "2025-09-11T14:53:53.283129Z",
     "shell.execute_reply": "2025-09-11T14:53:53.282186Z"
    },
    "papermill": {
     "duration": 0.13166,
     "end_time": "2025-09-11T14:53:53.285530",
     "exception": false,
     "start_time": "2025-09-11T14:53:53.153870",
     "status": "completed"
    },
    "tags": []
   },
   "outputs": [],
   "source": [
    "# build the CNN model\n",
    "model = Sequential([\n",
    "    Input(shape=(28,28,1)),\n",
    "    Conv2D(32, kernel_size=(3,3), activation='relu'),\n",
    "    MaxPooling2D(pool_size=(2,2)),\n",
    "    Dropout(0.25),\n",
    "    \n",
    "    Conv2D(64, kernel_size=(3,3), activation='relu'),\n",
    "    MaxPooling2D(pool_size=(2,2)),\n",
    "    Dropout(0.25),\n",
    "\n",
    "    Conv2D(64, kernel_size=(3,3), activation='relu'),\n",
    "    MaxPooling2D(pool_size=(2,2)),\n",
    "    Dropout(0.25),\n",
    "\n",
    "    Flatten(),\n",
    "    Dense(128, activation='relu'),\n",
    "    Dropout(0.5),\n",
    "    Dense(10, activation='softmax')\n",
    "])\n",
    "\n",
    "model.compile(\n",
    "    loss= 'categorical_crossentropy',\n",
    "    optimizer= 'adam',\n",
    "    metrics= ['accuracy']\n",
    ")"
   ]
  },
  {
   "cell_type": "code",
   "execution_count": 13,
   "id": "04f7181c",
   "metadata": {
    "execution": {
     "iopub.execute_input": "2025-09-11T14:53:53.297790Z",
     "iopub.status.busy": "2025-09-11T14:53:53.296960Z",
     "iopub.status.idle": "2025-09-11T14:56:30.479538Z",
     "shell.execute_reply": "2025-09-11T14:56:30.478540Z"
    },
    "papermill": {
     "duration": 157.191085,
     "end_time": "2025-09-11T14:56:30.481933",
     "exception": false,
     "start_time": "2025-09-11T14:53:53.290848",
     "status": "completed"
    },
    "tags": []
   },
   "outputs": [
    {
     "name": "stdout",
     "output_type": "stream",
     "text": [
      "Epoch 1/10\n",
      "263/263 - 17s - 65ms/step - accuracy: 0.6831 - loss: 0.9338 - val_accuracy: 0.9363 - val_loss: 0.2191\n",
      "Epoch 2/10\n",
      "263/263 - 14s - 54ms/step - accuracy: 0.9057 - loss: 0.3145 - val_accuracy: 0.9585 - val_loss: 0.1400\n",
      "Epoch 3/10\n",
      "263/263 - 14s - 54ms/step - accuracy: 0.9326 - loss: 0.2248 - val_accuracy: 0.9688 - val_loss: 0.1068\n",
      "Epoch 4/10\n",
      "263/263 - 14s - 55ms/step - accuracy: 0.9463 - loss: 0.1846 - val_accuracy: 0.9719 - val_loss: 0.0930\n",
      "Epoch 5/10\n",
      "263/263 - 14s - 54ms/step - accuracy: 0.9526 - loss: 0.1614 - val_accuracy: 0.9762 - val_loss: 0.0797\n",
      "Epoch 6/10\n",
      "263/263 - 20s - 77ms/step - accuracy: 0.9562 - loss: 0.1448 - val_accuracy: 0.9769 - val_loss: 0.0752\n",
      "Epoch 7/10\n",
      "263/263 - 21s - 78ms/step - accuracy: 0.9624 - loss: 0.1288 - val_accuracy: 0.9771 - val_loss: 0.0710\n",
      "Epoch 8/10\n",
      "263/263 - 14s - 53ms/step - accuracy: 0.9647 - loss: 0.1219 - val_accuracy: 0.9799 - val_loss: 0.0667\n",
      "Epoch 9/10\n",
      "263/263 - 14s - 54ms/step - accuracy: 0.9663 - loss: 0.1161 - val_accuracy: 0.9823 - val_loss: 0.0641\n",
      "Epoch 10/10\n",
      "263/263 - 14s - 53ms/step - accuracy: 0.9675 - loss: 0.1104 - val_accuracy: 0.9806 - val_loss: 0.0653\n"
     ]
    }
   ],
   "source": [
    "# train the model with train and validation sets\n",
    "history = model.fit(X_train, y_train, validation_data=(X_val, y_val), epochs=10, batch_size=128, verbose=2)"
   ]
  },
  {
   "cell_type": "code",
   "execution_count": 14,
   "id": "f8b6cffb",
   "metadata": {
    "execution": {
     "iopub.execute_input": "2025-09-11T14:56:30.495109Z",
     "iopub.status.busy": "2025-09-11T14:56:30.494790Z",
     "iopub.status.idle": "2025-09-11T14:56:31.104235Z",
     "shell.execute_reply": "2025-09-11T14:56:31.103185Z"
    },
    "papermill": {
     "duration": 0.618342,
     "end_time": "2025-09-11T14:56:31.106212",
     "exception": false,
     "start_time": "2025-09-11T14:56:30.487870",
     "status": "completed"
    },
    "tags": []
   },
   "outputs": [
    {
     "data": {
      "image/png": "[encoded data removed]",
      "text/plain": [
       "<Figure size 640x480 with 1 Axes>"
      ]
     },
     "metadata": {},
     "output_type": "display_data"
    },
    {
     "data": {
      "image/png": "[encoded data removed]",
      "text/plain": [
       "<Figure size 640x480 with 1 Axes>"
      ]
     },
     "metadata": {},
     "output_type": "display_data"
    }
   ],
   "source": [
    "# plotting accuracy\n",
    "plt.plot(history.history['accuracy'], label='Train Accuracy')\n",
    "plt.plot(history.history['val_accuracy'], label='Validation Accuracy')\n",
    "plt.title('Model Accuracy')\n",
    "plt.xlabel('Epoch')\n",
    "plt.ylabel('Accuracy')\n",
    "plt.legend()\n",
    "plt.show()\n",
    "\n",
    "# plotting loss\n",
    "plt.plot(history.history['loss'], label='Train Loss')\n",
    "plt.plot(history.history['val_loss'], label='Validation Loss')\n",
    "plt.title('Model Loss')\n",
    "plt.xlabel('Epoch')\n",
    "plt.ylabel('Loss')\n",
    "plt.legend()\n",
    "plt.show()"
   ]
  },
  {
   "cell_type": "code",
   "execution_count": 15,
   "id": "5a700e2d",
   "metadata": {
    "execution": {
     "iopub.execute_input": "2025-09-11T14:56:31.121965Z",
     "iopub.status.busy": "2025-09-11T14:56:31.120858Z",
     "iopub.status.idle": "2025-09-11T14:56:36.365801Z",
     "shell.execute_reply": "2025-09-11T14:56:36.364685Z"
    },
    "papermill": {
     "duration": 5.255359,
     "end_time": "2025-09-11T14:56:36.368297",
     "exception": false,
     "start_time": "2025-09-11T14:56:31.112938",
     "status": "completed"
    },
    "tags": []
   },
   "outputs": [
    {
     "name": "stdout",
     "output_type": "stream",
     "text": [
      "\u001b[1m875/875\u001b[0m \u001b[32m━━━━━━━━━━━━━━━━━━━━\u001b[0m\u001b[37m\u001b[0m \u001b[1m5s\u001b[0m 5ms/step\n"
     ]
    }
   ],
   "source": [
    "# predict labels of y_test\n",
    "y_test = model.predict(X_test)\n",
    "y_labels = np.argmax(y_test, axis=1)"
   ]
  },
  {
   "cell_type": "code",
   "execution_count": 16,
   "id": "b9f9c013",
   "metadata": {
    "execution": {
     "iopub.execute_input": "2025-09-11T14:56:36.394983Z",
     "iopub.status.busy": "2025-09-11T14:56:36.394564Z",
     "iopub.status.idle": "2025-09-11T14:56:36.422478Z",
     "shell.execute_reply": "2025-09-11T14:56:36.421705Z"
    },
    "papermill": {
     "duration": 0.044041,
     "end_time": "2025-09-11T14:56:36.424739",
     "exception": false,
     "start_time": "2025-09-11T14:56:36.380698",
     "status": "completed"
    },
    "tags": []
   },
   "outputs": [],
   "source": [
    "sub = pd.DataFrame({\n",
    "    'ImageId': np.arange(1, len(y_labels)+1),\n",
    "    'Label': y_labels \n",
    "})\n",
    "\n",
    "sub.to_csv('submission.csv', index=False)"
   ]
  }
 ],
 "metadata": {
  "kaggle": {
   "accelerator": "none",
   "dataSources": [
    {
     "databundleVersionId": 861823,
     "sourceId": 3004,
     "sourceType": "competition"
    }
   ],
   "dockerImageVersionId": 30732,
   "isGpuEnabled": false,
   "isInternetEnabled": true,
   "language": "python",
   "sourceType": "notebook"
  },
  "kernelspec": {
   "display_name": "Python 3",
   "language": "python",
   "name": "python3"
  },
  "language_info": {
   "codemirror_mode": {
    "name": "ipython",
    "version": 3
   },
   "file_extension": ".py",
   "mimetype": "text/x-python",
   "name": "python",
   "nbconvert_exporter": "python",
   "pygments_lexer": "ipython3",
   "version": "3.10.13"
  },
  "papermill": {
   "default_parameters": {},
   "duration": 190.509762,
   "end_time": "2025-09-11T14:56:38.162300",
   "environment_variables": {},
   "exception": null,
   "input_path": "__notebook__.ipynb",
   "output_path": "__notebook__.ipynb",
   "parameters": {},
   "start_time": "2025-09-11T14:53:27.652538",
   "version": "2.5.0"
  }
 },
 "nbformat": 4,
 "nbformat_minor": 5
}
